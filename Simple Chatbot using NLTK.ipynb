{
 "cells": [
  {
   "cell_type": "markdown",
   "metadata": {},
   "source": [
    "# Simple Chatbot using NLTK \n"
   ]
  },
  {
   "cell_type": "raw",
   "metadata": {},
   "source": [
    "pip install nltk\n"
   ]
  },
  {
   "cell_type": "code",
   "execution_count": null,
   "metadata": {},
   "outputs": [
    {
     "name": "stdout",
     "output_type": "stream",
     "text": [
      ">Hi\n",
      "Hello! Welcome to Jupyter. How may I assist you?\n",
      ">I need more information on your courses\n",
      "May I know which courses you are looking for?\n",
      ">Can I get the contact details of the help desk\n",
      "Yes, you can give us a call at XXXXXX7890.\n",
      ">How long does each lesson take?\n",
      "Each lesson follows an estimated time of 2 hours.\n",
      ">Will I recieve a course completion certificate?\n",
      "Yes. Successful completion of a course is awarded with a certificate\n",
      ">Is this course beneficial for my resume?\n",
      "Courses at Jupyter provide industry revelant knowledge for placements.\n"
     ]
    }
   ],
   "source": [
    "from nltk.chat.util import Chat,reflections\n",
    "pairs=[\n",
    "    ['Hi',['Hello! Welcome to Jupyter. How may I assist you?']],\n",
    "    ['I need more information on your courses',['May I know which courses you are looking for?']],\n",
    "    ['Can I get the contact details of the help desk',['Yes, you can give us a call at XXXXXX7890.']],\n",
    "    ['How long does each lesson take?',['Each lesson follows an estimated time of 2 hours.']],\n",
    "    ['Will I recieve a course completion certificate?',['Yes. Successful completion of a course is awarded with a certificate']],\n",
    "    ['Is this course beneficial for my resume?',['Courses at Jupyter provide industry revelant knowledge for placements.']],\n",
    "]\n",
    "chat=Chat(pairs,reflections)\n",
    "chat.converse()"
   ]
  },
  {
   "cell_type": "code",
   "execution_count": null,
   "metadata": {},
   "outputs": [],
   "source": []
  }
 ],
 "metadata": {
  "kernelspec": {
   "display_name": "Python 3",
   "language": "python",
   "name": "python3"
  },
  "language_info": {
   "codemirror_mode": {
    "name": "ipython",
    "version": 3
   },
   "file_extension": ".py",
   "mimetype": "text/x-python",
   "name": "python",
   "nbconvert_exporter": "python",
   "pygments_lexer": "ipython3",
   "version": "3.6.5"
  }
 },
 "nbformat": 4,
 "nbformat_minor": 4
}
